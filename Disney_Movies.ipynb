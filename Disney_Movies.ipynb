{
  "cells": [
    {
      "cell_type": "markdown",
      "metadata": {
        "id": "view-in-github",
        "colab_type": "text"
      },
      "source": [
        "<a href=\"https://colab.research.google.com/github/secureterminal/disney_web_scraping/blob/main/Disney_Movies.ipynb\" target=\"_parent\"><img src=\"https://colab.research.google.com/assets/colab-badge.svg\" alt=\"Open In Colab\"/></a>"
      ]
    },
    {
      "cell_type": "markdown",
      "metadata": {
        "id": "6d2bf328"
      },
      "source": [
        "# Task 1: Get info Box\n"
      ],
      "id": "6d2bf328"
    },
    {
      "cell_type": "code",
      "execution_count": 16,
      "metadata": {
        "id": "0a906511"
      },
      "outputs": [],
      "source": [
        "from bs4 import BeautifulSoup as bs\n",
        "import requests"
      ],
      "id": "0a906511"
    },
    {
      "cell_type": "markdown",
      "metadata": {
        "id": "881d3b28"
      },
      "source": [
        "## Load the webpage\n"
      ],
      "id": "881d3b28"
    },
    {
      "cell_type": "code",
      "execution_count": null,
      "metadata": {
        "id": "497ee491"
      },
      "outputs": [],
      "source": [
        "r = requests.get('https://en.wikipedia.org/wiki/Toy_Story_3')\n",
        "\n",
        "# convert it to a beautiful soup object\n",
        "soup = bs(r.content)\n",
        "\n",
        "# print out html\n",
        "\n",
        "contents = soup.prettify()"
      ],
      "id": "497ee491"
    },
    {
      "cell_type": "code",
      "execution_count": null,
      "metadata": {
        "id": "a6ba5e73"
      },
      "outputs": [],
      "source": [
        "print(contents)"
      ],
      "id": "a6ba5e73"
    },
    {
      "cell_type": "code",
      "execution_count": null,
      "metadata": {
        "id": "d5bc0e31"
      },
      "outputs": [],
      "source": [
        "info_box = soup.find(class_=\"infobox vevent\")\n",
        "\n",
        "info_rows = info_box.find_all(\"tr\")\n",
        "\n",
        "for row in info_rows:\n",
        "    print(row.prettify())"
      ],
      "id": "d5bc0e31"
    },
    {
      "cell_type": "code",
      "execution_count": null,
      "metadata": {
        "id": "a97ee645"
      },
      "outputs": [],
      "source": [
        "movie_info = {}\n",
        "\n",
        "def get_content_value(row_data):\n",
        "    if row_data.find(\"li\"):\n",
        "        return [li.get_text(\" \", strip=True).replace(\"\\xa0\", \" \") for li in row_data.find_all(\"li\")]\n",
        "    else:\n",
        "        return row_data.get_text(\" \", strip=True).replace(\"\\xa0\", \" \")\n",
        "    \n",
        "for index, row in enumerate(info_rows):\n",
        "    if index == 0:\n",
        "        movie_info['title'] = row.find(\"th\").get_text(\" \", strip=True)\n",
        "    elif index == 1:\n",
        "        continue\n",
        "    else:\n",
        "        content_key = row.find(\"th\").get_text(\" \", strip=True)\n",
        "        content_value = get_content_value(row.find(\"td\"))\n",
        "        movie_info[content_key] = content_value\n",
        "\n",
        "\n",
        "\n",
        "movie_info"
      ],
      "id": "a97ee645"
    },
    {
      "cell_type": "code",
      "execution_count": null,
      "metadata": {
        "id": "0511cea9"
      },
      "outputs": [],
      "source": [
        ""
      ],
      "id": "0511cea9"
    },
    {
      "cell_type": "markdown",
      "metadata": {
        "id": "dbb0816b"
      },
      "source": [
        "## Task 2:  Get info Box for all movies"
      ],
      "id": "dbb0816b"
    },
    {
      "cell_type": "code",
      "execution_count": 42,
      "metadata": {
        "id": "0446707f"
      },
      "outputs": [],
      "source": [
        "\n",
        "def get_content_value(row_data):\n",
        "    if row_data.find(\"li\"):\n",
        "        return [li.get_text(\" \", strip=True).replace(\"\\xa0\", \" \") for li in row_data.find_all(\"li\")]\n",
        "    elif row_data.find(\"br\"):\n",
        "        return [text for text in row_data.stripped_strings]\n",
        "    else:\n",
        "        return row_data.get_text(\" \", strip=True).replace(\"\\xa0\", \" \")\n",
        "\n",
        "\n",
        "def clean_tags(soup):\n",
        "    for tag in soup.find_all([\"sup\", \"span\"]):\n",
        "        tag.decompose()\n",
        "        \n",
        "        \n",
        "def get_info_box(url):\n",
        "    r = requests.get(url)\n",
        "    soup = bs(r.content)  \n",
        "    info_box = soup.find(class_=\"infobox vevent\")\n",
        "    info_rows = info_box.find_all(\"tr\")\n",
        "    \n",
        "    clean_tags(soup)\n",
        "\n",
        "    movie_info = {} \n",
        "    for index, row in enumerate(info_rows):\n",
        "        if index == 0:\n",
        "            movie_info['title'] = row.find(\"th\").get_text(\" \", strip=True)\n",
        "        # elif index == 1:\n",
        "        #     continue\n",
        "        else:\n",
        "            header = row.find(\"th\")\n",
        "            if header:\n",
        "                content_key = row.find(\"th\").get_text(\" \", strip=True)\n",
        "                content_value = get_content_value(row.find(\"td\"))\n",
        "                movie_info[content_key] = content_value\n",
        "\n",
        "    return movie_info\n",
        "\n",
        "\n",
        "\n"
      ],
      "id": "0446707f"
    },
    {
      "cell_type": "code",
      "source": [
        "# Test\n",
        "toy = get_info_box(\"https://en.wikipedia.org/wiki/The_Vanishing_Prairie\")"
      ],
      "metadata": {
        "id": "COURNb_sEy9y"
      },
      "id": "COURNb_sEy9y",
      "execution_count": 74,
      "outputs": []
    },
    {
      "cell_type": "code",
      "source": [
        "toy"
      ],
      "metadata": {
        "colab": {
          "base_uri": "https://localhost:8080/"
        },
        "id": "gsMxwJSMFWHo",
        "outputId": "ad96dd32-2618-41b7-f922-db7b8739f74f"
      },
      "id": "gsMxwJSMFWHo",
      "execution_count": 75,
      "outputs": [
        {
          "output_type": "execute_result",
          "data": {
            "text/plain": [
              "{'Box office': '$1.75 million (US and Canadian rentals)',\n",
              " 'Cinematography': 'N. Paul Kenworthy',\n",
              " 'Country': 'United States',\n",
              " 'Directed by': 'James Algar',\n",
              " 'Distributed by': 'Buena Vista Distribution',\n",
              " 'Edited by': 'Lloyd L. Richardson',\n",
              " 'Language': 'English',\n",
              " 'Music by': 'Paul J. Smith',\n",
              " 'Narrated by': 'Winston Hibler',\n",
              " 'Produced by': ['Ben Sharpsteen', 'Walt Disney'],\n",
              " 'Production company': 'Walt Disney Productions',\n",
              " 'Release date': ['August 17, 1954'],\n",
              " 'Running time': ['60 minutes (VHS version)', '71 minutes (original)'],\n",
              " 'Written by': ['James Algar', 'Winston Hibler'],\n",
              " 'title': 'The Vanishing Prairie'}"
            ]
          },
          "metadata": {},
          "execution_count": 75
        }
      ]
    },
    {
      "cell_type": "code",
      "execution_count": null,
      "metadata": {
        "id": "0d49aceb"
      },
      "outputs": [],
      "source": [
        "r = requests.get('https://en.wikipedia.org/wiki/List_of_Walt_Disney_Pictures_films')\n",
        "\n",
        "# convert it to a beautiful soup object\n",
        "soup = bs(r.content)\n",
        "movie_info_list = []\n",
        "movies = soup.select(\".wikitable.sortable i\")\n",
        "base_path =  \"https://en.wikipedia.org/\"\n",
        "for index, movie in enumerate(movies):\n",
        "    if index % 10 == 0:\n",
        "        print(\"Scraped \" + str(index) + \" movies\")\n",
        "    try:\n",
        "        relative_path = movie.a['href']\n",
        "        full_path = base_path + relative_path\n",
        "        title = movie.a['title']\n",
        "        movie_info_list.append(get_info_box(full_path))\n",
        "    except Exception as e:\n",
        "        print(movie.get_text())\n",
        "        print(e)"
      ],
      "id": "0d49aceb"
    },
    {
      "cell_type": "code",
      "execution_count": 46,
      "metadata": {
        "colab": {
          "base_uri": "https://localhost:8080/"
        },
        "id": "2b0c392c",
        "outputId": "728f5280-b07c-44ca-9f4e-92ffb6a72ff5"
      },
      "outputs": [
        {
          "output_type": "execute_result",
          "data": {
            "text/plain": [
              "502"
            ]
          },
          "metadata": {},
          "execution_count": 46
        }
      ],
      "source": [
        "len(movie_info_list)"
      ],
      "id": "2b0c392c"
    },
    {
      "cell_type": "markdown",
      "metadata": {
        "id": "2dd50b88"
      },
      "source": [
        "Save/Reload Data\n"
      ],
      "id": "2dd50b88"
    },
    {
      "cell_type": "code",
      "execution_count": 57,
      "metadata": {
        "id": "3627dff3"
      },
      "outputs": [],
      "source": [
        "import json\n",
        "\n",
        "def save_data(title, data):\n",
        "    with open(title, 'w', encoding='utf-8') as f:\n",
        "        json.dump(data, f, ensure_ascii=False, indent=4)"
      ],
      "id": "3627dff3"
    },
    {
      "cell_type": "code",
      "execution_count": 58,
      "metadata": {
        "id": "lF6LVFblmfxK"
      },
      "outputs": [],
      "source": [
        "import json\n",
        "\n",
        "def load_data(title):\n",
        "    with open(title, encoding=\"utf-8\") as f:\n",
        "        return json.load(f) \n",
        "        "
      ],
      "id": "lF6LVFblmfxK"
    },
    {
      "cell_type": "code",
      "execution_count": 59,
      "metadata": {
        "id": "dAHKBGEknUtT"
      },
      "outputs": [],
      "source": [
        "save_data(\"disney_data_3.json\", movie_info_list)"
      ],
      "id": "dAHKBGEknUtT"
    },
    {
      "cell_type": "code",
      "execution_count": 56,
      "metadata": {
        "id": "s1QtNx2znoTe"
      },
      "outputs": [],
      "source": [
        "movie_info_list = load_data(\"disney_data_2.json\")\n"
      ],
      "id": "s1QtNx2znoTe"
    },
    {
      "cell_type": "markdown",
      "source": [
        "#### Subtasks\n",
        "\n",
        "- ~~Clean up references [1]~~\n",
        "- Convert running time into an integer\n",
        "- Convert dates into a datetime object\n",
        "- ~~Split up the long strings~~\n",
        "- Convert Budget & Box office to numbers"
      ],
      "metadata": {
        "id": "n6mM_0QmFJde"
      },
      "id": "n6mM_0QmFJde"
    },
    {
      "cell_type": "code",
      "source": [
        "count = 0\n",
        "no_run_time = 0\n",
        "for a in movie_info_list:\n",
        "    count+= 1\n",
        "    if 'Running time' in a.keys():\n",
        "        if isinstance(a['Running time'], list):\n",
        "            movie_time = a['Running time'][0].split(\"min\")[0].strip()\n",
        "            print(a['title'] + \" :\", a['Running time'][0] + \" :\", movie_time)\n",
        "        else:\n",
        "            movie_time = a['Running time'].split(\"min\")[0].strip()\n",
        "            print(a['title'] + \" :\", a['Running time'] + \" :\", movie_time)\n",
        "    else:\n",
        "        no_run_time+=1\n",
        "    if count > 10:\n",
        "        continue\n",
        "    \n",
        "    # for key, value in a:\n",
        "    #     if key == 'Running time':\n",
        "    #         print(key[value])\n",
        "print(count, no_run_time)"
      ],
      "metadata": {
        "id": "Qy0bDwgvFKGZ"
      },
      "id": "Qy0bDwgvFKGZ",
      "execution_count": null,
      "outputs": []
    },
    {
      "cell_type": "code",
      "source": [
        ""
      ],
      "metadata": {
        "id": "onDm6vVXFNoy"
      },
      "id": "onDm6vVXFNoy",
      "execution_count": null,
      "outputs": []
    }
  ],
  "metadata": {
    "colab": {
      "name": "Disney Movies.ipynb",
      "provenance": [],
      "collapsed_sections": [],
      "include_colab_link": true
    },
    "kernelspec": {
      "display_name": "Python 3 (ipykernel)",
      "language": "python",
      "name": "python3"
    },
    "language_info": {
      "codemirror_mode": {
        "name": "ipython",
        "version": 3
      },
      "file_extension": ".py",
      "mimetype": "text/x-python",
      "name": "python",
      "nbconvert_exporter": "python",
      "pygments_lexer": "ipython3",
      "version": "3.9.7"
    }
  },
  "nbformat": 4,
  "nbformat_minor": 5
}